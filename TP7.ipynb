{
 "cells": [
  {
   "cell_type": "markdown",
   "id": "81690622",
   "metadata": {},
   "source": [
    "# TP 7 : Random Forest"
   ]
  },
  {
   "cell_type": "markdown",
   "id": "fedeefca",
   "metadata": {},
   "source": [
    "# <div class=\"alert alert-block alert-success\">\n",
    "<b>Informations générales </b>\n",
    "</div>\n",
    "\n",
    "**Professeur**: Stephan Robert\n",
    "\n",
    "**Assistant(s)**: Félicien Hêche\n",
    "\n",
    "**Contact**: stephan.o.robert@gmail.com, felicien.heche@gmail.com ou via Teams\n",
    "\n",
    "**Rendu**:\n",
    "\n",
    "- Date: 9 Janvier 2024\n",
    "- Modalité: Travail individuel. Une fois complétées, copiez les réponses dans le ficher \"**TP7_APV_S1-2023_Nom_Prenom.*****\" (*** = ce que vous voulez qui soit lisible pour nous: .pdf, .html, ...) en remplaçant Nom et Prenom par les votres puis uploader votre fichier sur Cyberlearn.\n",
    "- Note: Ce TP est noté sur 6, pour un poids de x%\n",
    "\n",
    "**Étudiant**:\n",
    "\n",
    "- Hugo Huart\n",
    "\n",
    "<div class=\"alert alert-block alert-success\">\n",
    "\n",
    "<b>But du TP </b>\n",
    "</div>\n",
    "\n",
    "Le but de ce travail pratique est d'implémenter un algorithme appelé Random Forest! Dans ce travail pratique, nous allons travailler avec un dataset trouvé sur kaggle. Ce dataset est assez brute et par conséquent, il faudra faire un peu de préprocessing avant de pouvoir l'utiliser.\n",
    "\n",
    "\n",
    "<!---\n",
    "<div class=\"alert alert-block alert-info\">\n",
    "<b>Rappel </b>\n",
    "</div>\n",
    "-->\n",
    "\n",
    "<div class=\"alert alert-block alert-success\">\n",
    "<b>Table des matières </b>\n",
    "</div>\n",
    "\n",
    "1. Data préparation\n",
    "2. Random Forest\n",
    "3. Test"
   ]
  },
  {
   "cell_type": "markdown",
   "id": "f1f4dde1",
   "metadata": {},
   "source": [
    "Commencons par importer quelques packages."
   ]
  },
  {
   "cell_type": "code",
   "execution_count": 97,
   "id": "90d35bb1",
   "metadata": {},
   "outputs": [],
   "source": [
    "import itertools\n",
    "import sklearn\n",
    "import numpy as np\n",
    "import matplotlib.pyplot as plt\n",
    "from tqdm import tqdm\n",
    "from statistics import mode\n",
    "from sklearn.tree import DecisionTreeRegressor\n",
    "from sklearn import datasets\n",
    "from sklearn.model_selection import train_test_split\n",
    "from sklearn.metrics import mean_absolute_error\n",
    "from sklearn.ensemble import RandomForestRegressor\n",
    "from sklearn.preprocessing import OrdinalEncoder\n",
    "from scipy import stats\n",
    "import pandas as pd\n",
    "import re"
   ]
  },
  {
   "cell_type": "markdown",
   "id": "0b44720c",
   "metadata": {},
   "source": [
    "## 1. Data préparation"
   ]
  },
  {
   "cell_type": "markdown",
   "id": "6de428b0",
   "metadata": {},
   "source": [
    "Pour ce TP, nous allons travailler avec un dataset qui se nomme 'Australian Housing Prices'. Ce dataset vient de kaggle (plus d'information [ici](https://www.kaggle.com/datasets/thedevastator/australian-housing-data-1000-properties-sampled)). Ce fichier contient 27 features concernant $1000$ maisons/appartements australiens ainsi que le prix de vente de la maison/appartement en question. Dans ce travail pratique, nous allons utiliser l'algorithme de random forest afin d'estimer le prix d'une maison/appartement."
   ]
  },
  {
   "cell_type": "markdown",
   "id": "96a94432",
   "metadata": {},
   "source": [
    "Commençons par essayer de comprendre un peu mieux le dataset."
   ]
  },
  {
   "cell_type": "code",
   "execution_count": 43,
   "id": "e83395af",
   "metadata": {},
   "outputs": [
    {
     "data": {
      "text/html": [
       "<div>\n",
       "<style scoped>\n",
       "    .dataframe tbody tr th:only-of-type {\n",
       "        vertical-align: middle;\n",
       "    }\n",
       "\n",
       "    .dataframe tbody tr th {\n",
       "        vertical-align: top;\n",
       "    }\n",
       "\n",
       "    .dataframe thead th {\n",
       "        text-align: right;\n",
       "    }\n",
       "</style>\n",
       "<table border=\"1\" class=\"dataframe\">\n",
       "  <thead>\n",
       "    <tr style=\"text-align: right;\">\n",
       "      <th></th>\n",
       "      <th>Id</th>\n",
       "      <th>MSSubClass</th>\n",
       "      <th>MSZoning</th>\n",
       "      <th>LotFrontage</th>\n",
       "      <th>LotArea</th>\n",
       "      <th>Street</th>\n",
       "      <th>Alley</th>\n",
       "      <th>LotShape</th>\n",
       "      <th>LandContour</th>\n",
       "      <th>Utilities</th>\n",
       "      <th>...</th>\n",
       "      <th>PoolArea</th>\n",
       "      <th>PoolQC</th>\n",
       "      <th>Fence</th>\n",
       "      <th>MiscFeature</th>\n",
       "      <th>MiscVal</th>\n",
       "      <th>MoSold</th>\n",
       "      <th>YrSold</th>\n",
       "      <th>SaleType</th>\n",
       "      <th>SaleCondition</th>\n",
       "      <th>SalePrice</th>\n",
       "    </tr>\n",
       "  </thead>\n",
       "  <tbody>\n",
       "    <tr>\n",
       "      <th>0</th>\n",
       "      <td>1</td>\n",
       "      <td>60</td>\n",
       "      <td>RL</td>\n",
       "      <td>65.0</td>\n",
       "      <td>8450</td>\n",
       "      <td>Pave</td>\n",
       "      <td>NaN</td>\n",
       "      <td>Reg</td>\n",
       "      <td>Lvl</td>\n",
       "      <td>AllPub</td>\n",
       "      <td>...</td>\n",
       "      <td>0</td>\n",
       "      <td>NaN</td>\n",
       "      <td>NaN</td>\n",
       "      <td>NaN</td>\n",
       "      <td>0</td>\n",
       "      <td>2</td>\n",
       "      <td>2008</td>\n",
       "      <td>WD</td>\n",
       "      <td>Normal</td>\n",
       "      <td>208500</td>\n",
       "    </tr>\n",
       "    <tr>\n",
       "      <th>1</th>\n",
       "      <td>2</td>\n",
       "      <td>20</td>\n",
       "      <td>RL</td>\n",
       "      <td>80.0</td>\n",
       "      <td>9600</td>\n",
       "      <td>Pave</td>\n",
       "      <td>NaN</td>\n",
       "      <td>Reg</td>\n",
       "      <td>Lvl</td>\n",
       "      <td>AllPub</td>\n",
       "      <td>...</td>\n",
       "      <td>0</td>\n",
       "      <td>NaN</td>\n",
       "      <td>NaN</td>\n",
       "      <td>NaN</td>\n",
       "      <td>0</td>\n",
       "      <td>5</td>\n",
       "      <td>2007</td>\n",
       "      <td>WD</td>\n",
       "      <td>Normal</td>\n",
       "      <td>181500</td>\n",
       "    </tr>\n",
       "    <tr>\n",
       "      <th>2</th>\n",
       "      <td>3</td>\n",
       "      <td>60</td>\n",
       "      <td>RL</td>\n",
       "      <td>68.0</td>\n",
       "      <td>11250</td>\n",
       "      <td>Pave</td>\n",
       "      <td>NaN</td>\n",
       "      <td>IR1</td>\n",
       "      <td>Lvl</td>\n",
       "      <td>AllPub</td>\n",
       "      <td>...</td>\n",
       "      <td>0</td>\n",
       "      <td>NaN</td>\n",
       "      <td>NaN</td>\n",
       "      <td>NaN</td>\n",
       "      <td>0</td>\n",
       "      <td>9</td>\n",
       "      <td>2008</td>\n",
       "      <td>WD</td>\n",
       "      <td>Normal</td>\n",
       "      <td>223500</td>\n",
       "    </tr>\n",
       "    <tr>\n",
       "      <th>3</th>\n",
       "      <td>4</td>\n",
       "      <td>70</td>\n",
       "      <td>RL</td>\n",
       "      <td>60.0</td>\n",
       "      <td>9550</td>\n",
       "      <td>Pave</td>\n",
       "      <td>NaN</td>\n",
       "      <td>IR1</td>\n",
       "      <td>Lvl</td>\n",
       "      <td>AllPub</td>\n",
       "      <td>...</td>\n",
       "      <td>0</td>\n",
       "      <td>NaN</td>\n",
       "      <td>NaN</td>\n",
       "      <td>NaN</td>\n",
       "      <td>0</td>\n",
       "      <td>2</td>\n",
       "      <td>2006</td>\n",
       "      <td>WD</td>\n",
       "      <td>Abnorml</td>\n",
       "      <td>140000</td>\n",
       "    </tr>\n",
       "    <tr>\n",
       "      <th>4</th>\n",
       "      <td>5</td>\n",
       "      <td>60</td>\n",
       "      <td>RL</td>\n",
       "      <td>84.0</td>\n",
       "      <td>14260</td>\n",
       "      <td>Pave</td>\n",
       "      <td>NaN</td>\n",
       "      <td>IR1</td>\n",
       "      <td>Lvl</td>\n",
       "      <td>AllPub</td>\n",
       "      <td>...</td>\n",
       "      <td>0</td>\n",
       "      <td>NaN</td>\n",
       "      <td>NaN</td>\n",
       "      <td>NaN</td>\n",
       "      <td>0</td>\n",
       "      <td>12</td>\n",
       "      <td>2008</td>\n",
       "      <td>WD</td>\n",
       "      <td>Normal</td>\n",
       "      <td>250000</td>\n",
       "    </tr>\n",
       "  </tbody>\n",
       "</table>\n",
       "<p>5 rows × 81 columns</p>\n",
       "</div>"
      ],
      "text/plain": [
       "   Id  MSSubClass MSZoning  LotFrontage  LotArea Street Alley LotShape  \\\n",
       "0   1          60       RL         65.0     8450   Pave   NaN      Reg   \n",
       "1   2          20       RL         80.0     9600   Pave   NaN      Reg   \n",
       "2   3          60       RL         68.0    11250   Pave   NaN      IR1   \n",
       "3   4          70       RL         60.0     9550   Pave   NaN      IR1   \n",
       "4   5          60       RL         84.0    14260   Pave   NaN      IR1   \n",
       "\n",
       "  LandContour Utilities  ... PoolArea PoolQC Fence MiscFeature MiscVal MoSold  \\\n",
       "0         Lvl    AllPub  ...        0    NaN   NaN         NaN       0      2   \n",
       "1         Lvl    AllPub  ...        0    NaN   NaN         NaN       0      5   \n",
       "2         Lvl    AllPub  ...        0    NaN   NaN         NaN       0      9   \n",
       "3         Lvl    AllPub  ...        0    NaN   NaN         NaN       0      2   \n",
       "4         Lvl    AllPub  ...        0    NaN   NaN         NaN       0     12   \n",
       "\n",
       "  YrSold  SaleType  SaleCondition  SalePrice  \n",
       "0   2008        WD         Normal     208500  \n",
       "1   2007        WD         Normal     181500  \n",
       "2   2008        WD         Normal     223500  \n",
       "3   2006        WD        Abnorml     140000  \n",
       "4   2008        WD         Normal     250000  \n",
       "\n",
       "[5 rows x 81 columns]"
      ]
     },
     "execution_count": 43,
     "metadata": {},
     "output_type": "execute_result"
    }
   ],
   "source": [
    "df = pd.read_csv('train.csv')\n",
    "df.head()"
   ]
  },
  {
   "cell_type": "markdown",
   "id": "beeb8964",
   "metadata": {},
   "source": [
    "Comme vous pouvez le voir, notre dataset n'est pas utilisable comme tel, car il a des données manquantes et des features de type string. Nous allons donc commencer par préparer notre dataset."
   ]
  },
  {
   "cell_type": "markdown",
   "id": "c5dc48d3",
   "metadata": {},
   "source": [
    "### 1.1 Gestion des données manquantes"
   ]
  },
  {
   "cell_type": "markdown",
   "id": "27650644",
   "metadata": {},
   "source": [
    "Pour commencer nous allons gérer nos données manquantes. En effet, comme nous pouvons le constater, il y a actuellememt un grand nombre de données manquantes dans notre jeux de données.\n"
   ]
  },
  {
   "cell_type": "code",
   "execution_count": 44,
   "id": "75480995",
   "metadata": {},
   "outputs": [
    {
     "name": "stdout",
     "output_type": "stream",
     "text": [
      "Il y a 1460 observations avec des données manquantes\n"
     ]
    }
   ],
   "source": [
    "print(\"Il y a %d observations avec des données manquantes\" % df.isna().any(axis=1).sum())"
   ]
  },
  {
   "cell_type": "markdown",
   "id": "07384168",
   "metadata": {},
   "source": [
    "En première approche, nous allons donc déterminer et supprimer les features de notre dataset qui ont un nombre de valeurs manquantes trop élevées."
   ]
  },
  {
   "cell_type": "code",
   "execution_count": 45,
   "id": "32a5b57e",
   "metadata": {},
   "outputs": [
    {
     "name": "stdout",
     "output_type": "stream",
     "text": [
      "['LotFrontage', 'Alley', 'FireplaceQu', 'PoolQC', 'Fence', 'MiscFeature']\n"
     ]
    }
   ],
   "source": [
    "missing_features = df.columns[df.isna().sum() > 200].to_list()\n",
    "print(missing_features)\n",
    "\n",
    "df = df.drop(missing_features, axis=1)"
   ]
  },
  {
   "cell_type": "markdown",
   "id": "f82f283b",
   "metadata": {},
   "source": [
    "Ensuite, il est également, préférable de supprimer la colonne 'Id'."
   ]
  },
  {
   "cell_type": "code",
   "execution_count": 46,
   "id": "67e0e88a",
   "metadata": {},
   "outputs": [],
   "source": [
    "df = df.drop(\"Id\", axis=1)"
   ]
  },
  {
   "cell_type": "code",
   "execution_count": 47,
   "id": "364d9d1e",
   "metadata": {},
   "outputs": [
    {
     "name": "stdout",
     "output_type": "stream",
     "text": [
      "Il y a 122 observations avec des données manquantes\n"
     ]
    }
   ],
   "source": [
    "print(\"Il y a %d observations avec des données manquantes\" % df.isna().any(axis=1).sum())"
   ]
  },
  {
   "cell_type": "markdown",
   "id": "45175220",
   "metadata": {},
   "source": [
    "Bien que le nombre de données manquantes ait significativement diminué, il reste encore quelques données manquantes. Pour finir, nous allons donc supprimer les lignes dans lesquelles il y a encore des données manquantes."
   ]
  },
  {
   "cell_type": "code",
   "execution_count": 48,
   "id": "8d668bc5",
   "metadata": {},
   "outputs": [],
   "source": [
    "missing_observations = df.isna().any(axis=1)\n",
    "df = df.drop(df[missing_observations].index)"
   ]
  },
  {
   "cell_type": "code",
   "execution_count": 49,
   "id": "a68df44e",
   "metadata": {},
   "outputs": [
    {
     "name": "stdout",
     "output_type": "stream",
     "text": [
      "Il y a 0 observations avec des données manquantes\n"
     ]
    }
   ],
   "source": [
    "print(\"Il y a %d observations avec des données manquantes\" % df.isna().any(axis=1).sum())"
   ]
  },
  {
   "cell_type": "markdown",
   "id": "8deb4e0e",
   "metadata": {},
   "source": [
    "## 1.3 Numérisation"
   ]
  },
  {
   "cell_type": "markdown",
   "id": "38b8ed1c",
   "metadata": {},
   "source": [
    "Maintenant que nous avons géré le problème des données manquantes, passons au problème suivant. Comme vous avez pu le constater toutes les valeurs présentes dans notre dataset ne sont pas de type numérique. Cela est évidemment problématique, car nous devons nourrir notre modèle avec des données de ce type."
   ]
  },
  {
   "cell_type": "markdown",
   "id": "bc64512a",
   "metadata": {},
   "source": [
    "Nous allons donc gérer ce problème ici."
   ]
  },
  {
   "cell_type": "code",
   "execution_count": 50,
   "id": "11208deb",
   "metadata": {},
   "outputs": [
    {
     "data": {
      "text/html": [
       "<div>\n",
       "<style scoped>\n",
       "    .dataframe tbody tr th:only-of-type {\n",
       "        vertical-align: middle;\n",
       "    }\n",
       "\n",
       "    .dataframe tbody tr th {\n",
       "        vertical-align: top;\n",
       "    }\n",
       "\n",
       "    .dataframe thead th {\n",
       "        text-align: right;\n",
       "    }\n",
       "</style>\n",
       "<table border=\"1\" class=\"dataframe\">\n",
       "  <thead>\n",
       "    <tr style=\"text-align: right;\">\n",
       "      <th></th>\n",
       "      <th>MSSubClass</th>\n",
       "      <th>MSZoning</th>\n",
       "      <th>LotArea</th>\n",
       "      <th>Street</th>\n",
       "      <th>LotShape</th>\n",
       "      <th>LandContour</th>\n",
       "      <th>Utilities</th>\n",
       "      <th>LotConfig</th>\n",
       "      <th>LandSlope</th>\n",
       "      <th>Neighborhood</th>\n",
       "      <th>...</th>\n",
       "      <th>EnclosedPorch</th>\n",
       "      <th>3SsnPorch</th>\n",
       "      <th>ScreenPorch</th>\n",
       "      <th>PoolArea</th>\n",
       "      <th>MiscVal</th>\n",
       "      <th>MoSold</th>\n",
       "      <th>YrSold</th>\n",
       "      <th>SaleType</th>\n",
       "      <th>SaleCondition</th>\n",
       "      <th>SalePrice</th>\n",
       "    </tr>\n",
       "  </thead>\n",
       "  <tbody>\n",
       "    <tr>\n",
       "      <th>0</th>\n",
       "      <td>60</td>\n",
       "      <td>RL</td>\n",
       "      <td>8450</td>\n",
       "      <td>Pave</td>\n",
       "      <td>Reg</td>\n",
       "      <td>Lvl</td>\n",
       "      <td>AllPub</td>\n",
       "      <td>Inside</td>\n",
       "      <td>Gtl</td>\n",
       "      <td>CollgCr</td>\n",
       "      <td>...</td>\n",
       "      <td>0</td>\n",
       "      <td>0</td>\n",
       "      <td>0</td>\n",
       "      <td>0</td>\n",
       "      <td>0</td>\n",
       "      <td>2</td>\n",
       "      <td>2008</td>\n",
       "      <td>WD</td>\n",
       "      <td>Normal</td>\n",
       "      <td>208500</td>\n",
       "    </tr>\n",
       "    <tr>\n",
       "      <th>1</th>\n",
       "      <td>20</td>\n",
       "      <td>RL</td>\n",
       "      <td>9600</td>\n",
       "      <td>Pave</td>\n",
       "      <td>Reg</td>\n",
       "      <td>Lvl</td>\n",
       "      <td>AllPub</td>\n",
       "      <td>FR2</td>\n",
       "      <td>Gtl</td>\n",
       "      <td>Veenker</td>\n",
       "      <td>...</td>\n",
       "      <td>0</td>\n",
       "      <td>0</td>\n",
       "      <td>0</td>\n",
       "      <td>0</td>\n",
       "      <td>0</td>\n",
       "      <td>5</td>\n",
       "      <td>2007</td>\n",
       "      <td>WD</td>\n",
       "      <td>Normal</td>\n",
       "      <td>181500</td>\n",
       "    </tr>\n",
       "    <tr>\n",
       "      <th>2</th>\n",
       "      <td>60</td>\n",
       "      <td>RL</td>\n",
       "      <td>11250</td>\n",
       "      <td>Pave</td>\n",
       "      <td>IR1</td>\n",
       "      <td>Lvl</td>\n",
       "      <td>AllPub</td>\n",
       "      <td>Inside</td>\n",
       "      <td>Gtl</td>\n",
       "      <td>CollgCr</td>\n",
       "      <td>...</td>\n",
       "      <td>0</td>\n",
       "      <td>0</td>\n",
       "      <td>0</td>\n",
       "      <td>0</td>\n",
       "      <td>0</td>\n",
       "      <td>9</td>\n",
       "      <td>2008</td>\n",
       "      <td>WD</td>\n",
       "      <td>Normal</td>\n",
       "      <td>223500</td>\n",
       "    </tr>\n",
       "    <tr>\n",
       "      <th>3</th>\n",
       "      <td>70</td>\n",
       "      <td>RL</td>\n",
       "      <td>9550</td>\n",
       "      <td>Pave</td>\n",
       "      <td>IR1</td>\n",
       "      <td>Lvl</td>\n",
       "      <td>AllPub</td>\n",
       "      <td>Corner</td>\n",
       "      <td>Gtl</td>\n",
       "      <td>Crawfor</td>\n",
       "      <td>...</td>\n",
       "      <td>272</td>\n",
       "      <td>0</td>\n",
       "      <td>0</td>\n",
       "      <td>0</td>\n",
       "      <td>0</td>\n",
       "      <td>2</td>\n",
       "      <td>2006</td>\n",
       "      <td>WD</td>\n",
       "      <td>Abnorml</td>\n",
       "      <td>140000</td>\n",
       "    </tr>\n",
       "    <tr>\n",
       "      <th>4</th>\n",
       "      <td>60</td>\n",
       "      <td>RL</td>\n",
       "      <td>14260</td>\n",
       "      <td>Pave</td>\n",
       "      <td>IR1</td>\n",
       "      <td>Lvl</td>\n",
       "      <td>AllPub</td>\n",
       "      <td>FR2</td>\n",
       "      <td>Gtl</td>\n",
       "      <td>NoRidge</td>\n",
       "      <td>...</td>\n",
       "      <td>0</td>\n",
       "      <td>0</td>\n",
       "      <td>0</td>\n",
       "      <td>0</td>\n",
       "      <td>0</td>\n",
       "      <td>12</td>\n",
       "      <td>2008</td>\n",
       "      <td>WD</td>\n",
       "      <td>Normal</td>\n",
       "      <td>250000</td>\n",
       "    </tr>\n",
       "  </tbody>\n",
       "</table>\n",
       "<p>5 rows × 74 columns</p>\n",
       "</div>"
      ],
      "text/plain": [
       "   MSSubClass MSZoning  LotArea Street LotShape LandContour Utilities  \\\n",
       "0          60       RL     8450   Pave      Reg         Lvl    AllPub   \n",
       "1          20       RL     9600   Pave      Reg         Lvl    AllPub   \n",
       "2          60       RL    11250   Pave      IR1         Lvl    AllPub   \n",
       "3          70       RL     9550   Pave      IR1         Lvl    AllPub   \n",
       "4          60       RL    14260   Pave      IR1         Lvl    AllPub   \n",
       "\n",
       "  LotConfig LandSlope Neighborhood  ... EnclosedPorch 3SsnPorch ScreenPorch  \\\n",
       "0    Inside       Gtl      CollgCr  ...             0         0           0   \n",
       "1       FR2       Gtl      Veenker  ...             0         0           0   \n",
       "2    Inside       Gtl      CollgCr  ...             0         0           0   \n",
       "3    Corner       Gtl      Crawfor  ...           272         0           0   \n",
       "4       FR2       Gtl      NoRidge  ...             0         0           0   \n",
       "\n",
       "  PoolArea  MiscVal  MoSold  YrSold  SaleType SaleCondition SalePrice  \n",
       "0        0        0       2    2008        WD        Normal    208500  \n",
       "1        0        0       5    2007        WD        Normal    181500  \n",
       "2        0        0       9    2008        WD        Normal    223500  \n",
       "3        0        0       2    2006        WD       Abnorml    140000  \n",
       "4        0        0      12    2008        WD        Normal    250000  \n",
       "\n",
       "[5 rows x 74 columns]"
      ]
     },
     "execution_count": 50,
     "metadata": {},
     "output_type": "execute_result"
    }
   ],
   "source": [
    "df.head()"
   ]
  },
  {
   "cell_type": "code",
   "execution_count": 51,
   "id": "04a334d8",
   "metadata": {},
   "outputs": [],
   "source": [
    "def numerise_data(df: pd.DataFrame):\n",
    "    cols = df.columns\n",
    "    ret = pd.DataFrame(OrdinalEncoder(dtype=np.int64).fit_transform(df), columns=cols)\n",
    "\n",
    "    return ret"
   ]
  },
  {
   "cell_type": "markdown",
   "id": "bb2787e2",
   "metadata": {},
   "source": [
    "Maintenant, nous pouvons convertir nos données string en données numéric."
   ]
  },
  {
   "cell_type": "code",
   "execution_count": 52,
   "id": "b8742cac",
   "metadata": {},
   "outputs": [],
   "source": [
    "df = numerise_data(df)"
   ]
  },
  {
   "cell_type": "markdown",
   "id": "96db7ac5",
   "metadata": {},
   "source": [
    "Evidemment, nous pouvons vérifier que tout a bien fonctionné."
   ]
  },
  {
   "cell_type": "code",
   "execution_count": 53,
   "id": "18b0f61c",
   "metadata": {
    "scrolled": true
   },
   "outputs": [
    {
     "data": {
      "text/html": [
       "<div>\n",
       "<style scoped>\n",
       "    .dataframe tbody tr th:only-of-type {\n",
       "        vertical-align: middle;\n",
       "    }\n",
       "\n",
       "    .dataframe tbody tr th {\n",
       "        vertical-align: top;\n",
       "    }\n",
       "\n",
       "    .dataframe thead th {\n",
       "        text-align: right;\n",
       "    }\n",
       "</style>\n",
       "<table border=\"1\" class=\"dataframe\">\n",
       "  <thead>\n",
       "    <tr style=\"text-align: right;\">\n",
       "      <th></th>\n",
       "      <th>MSSubClass</th>\n",
       "      <th>MSZoning</th>\n",
       "      <th>LotArea</th>\n",
       "      <th>Street</th>\n",
       "      <th>LotShape</th>\n",
       "      <th>LandContour</th>\n",
       "      <th>Utilities</th>\n",
       "      <th>LotConfig</th>\n",
       "      <th>LandSlope</th>\n",
       "      <th>Neighborhood</th>\n",
       "      <th>...</th>\n",
       "      <th>EnclosedPorch</th>\n",
       "      <th>3SsnPorch</th>\n",
       "      <th>ScreenPorch</th>\n",
       "      <th>PoolArea</th>\n",
       "      <th>MiscVal</th>\n",
       "      <th>MoSold</th>\n",
       "      <th>YrSold</th>\n",
       "      <th>SaleType</th>\n",
       "      <th>SaleCondition</th>\n",
       "      <th>SalePrice</th>\n",
       "    </tr>\n",
       "  </thead>\n",
       "  <tbody>\n",
       "    <tr>\n",
       "      <th>0</th>\n",
       "      <td>5</td>\n",
       "      <td>3</td>\n",
       "      <td>287</td>\n",
       "      <td>1</td>\n",
       "      <td>3</td>\n",
       "      <td>3</td>\n",
       "      <td>0</td>\n",
       "      <td>4</td>\n",
       "      <td>0</td>\n",
       "      <td>5</td>\n",
       "      <td>...</td>\n",
       "      <td>0</td>\n",
       "      <td>0</td>\n",
       "      <td>0</td>\n",
       "      <td>0</td>\n",
       "      <td>0</td>\n",
       "      <td>1</td>\n",
       "      <td>2</td>\n",
       "      <td>8</td>\n",
       "      <td>4</td>\n",
       "      <td>371</td>\n",
       "    </tr>\n",
       "    <tr>\n",
       "      <th>1</th>\n",
       "      <td>0</td>\n",
       "      <td>3</td>\n",
       "      <td>448</td>\n",
       "      <td>1</td>\n",
       "      <td>3</td>\n",
       "      <td>3</td>\n",
       "      <td>0</td>\n",
       "      <td>2</td>\n",
       "      <td>0</td>\n",
       "      <td>24</td>\n",
       "      <td>...</td>\n",
       "      <td>0</td>\n",
       "      <td>0</td>\n",
       "      <td>0</td>\n",
       "      <td>0</td>\n",
       "      <td>0</td>\n",
       "      <td>4</td>\n",
       "      <td>1</td>\n",
       "      <td>8</td>\n",
       "      <td>4</td>\n",
       "      <td>303</td>\n",
       "    </tr>\n",
       "    <tr>\n",
       "      <th>2</th>\n",
       "      <td>5</td>\n",
       "      <td>3</td>\n",
       "      <td>641</td>\n",
       "      <td>1</td>\n",
       "      <td>0</td>\n",
       "      <td>3</td>\n",
       "      <td>0</td>\n",
       "      <td>4</td>\n",
       "      <td>0</td>\n",
       "      <td>5</td>\n",
       "      <td>...</td>\n",
       "      <td>0</td>\n",
       "      <td>0</td>\n",
       "      <td>0</td>\n",
       "      <td>0</td>\n",
       "      <td>0</td>\n",
       "      <td>8</td>\n",
       "      <td>2</td>\n",
       "      <td>8</td>\n",
       "      <td>4</td>\n",
       "      <td>400</td>\n",
       "    </tr>\n",
       "    <tr>\n",
       "      <th>3</th>\n",
       "      <td>6</td>\n",
       "      <td>3</td>\n",
       "      <td>439</td>\n",
       "      <td>1</td>\n",
       "      <td>0</td>\n",
       "      <td>3</td>\n",
       "      <td>0</td>\n",
       "      <td>0</td>\n",
       "      <td>0</td>\n",
       "      <td>6</td>\n",
       "      <td>...</td>\n",
       "      <td>98</td>\n",
       "      <td>0</td>\n",
       "      <td>0</td>\n",
       "      <td>0</td>\n",
       "      <td>0</td>\n",
       "      <td>1</td>\n",
       "      <td>0</td>\n",
       "      <td>8</td>\n",
       "      <td>0</td>\n",
       "      <td>160</td>\n",
       "    </tr>\n",
       "    <tr>\n",
       "      <th>4</th>\n",
       "      <td>5</td>\n",
       "      <td>3</td>\n",
       "      <td>857</td>\n",
       "      <td>1</td>\n",
       "      <td>0</td>\n",
       "      <td>3</td>\n",
       "      <td>0</td>\n",
       "      <td>2</td>\n",
       "      <td>0</td>\n",
       "      <td>15</td>\n",
       "      <td>...</td>\n",
       "      <td>0</td>\n",
       "      <td>0</td>\n",
       "      <td>0</td>\n",
       "      <td>0</td>\n",
       "      <td>0</td>\n",
       "      <td>11</td>\n",
       "      <td>2</td>\n",
       "      <td>8</td>\n",
       "      <td>4</td>\n",
       "      <td>452</td>\n",
       "    </tr>\n",
       "  </tbody>\n",
       "</table>\n",
       "<p>5 rows × 74 columns</p>\n",
       "</div>"
      ],
      "text/plain": [
       "   MSSubClass  MSZoning  LotArea  Street  LotShape  LandContour  Utilities  \\\n",
       "0           5         3      287       1         3            3          0   \n",
       "1           0         3      448       1         3            3          0   \n",
       "2           5         3      641       1         0            3          0   \n",
       "3           6         3      439       1         0            3          0   \n",
       "4           5         3      857       1         0            3          0   \n",
       "\n",
       "   LotConfig  LandSlope  Neighborhood  ...  EnclosedPorch  3SsnPorch  \\\n",
       "0          4          0             5  ...              0          0   \n",
       "1          2          0            24  ...              0          0   \n",
       "2          4          0             5  ...              0          0   \n",
       "3          0          0             6  ...             98          0   \n",
       "4          2          0            15  ...              0          0   \n",
       "\n",
       "   ScreenPorch  PoolArea  MiscVal  MoSold  YrSold  SaleType  SaleCondition  \\\n",
       "0            0         0        0       1       2         8              4   \n",
       "1            0         0        0       4       1         8              4   \n",
       "2            0         0        0       8       2         8              4   \n",
       "3            0         0        0       1       0         8              0   \n",
       "4            0         0        0      11       2         8              4   \n",
       "\n",
       "   SalePrice  \n",
       "0        371  \n",
       "1        303  \n",
       "2        400  \n",
       "3        160  \n",
       "4        452  \n",
       "\n",
       "[5 rows x 74 columns]"
      ]
     },
     "execution_count": 53,
     "metadata": {},
     "output_type": "execute_result"
    }
   ],
   "source": [
    "df.head()"
   ]
  },
  {
   "cell_type": "markdown",
   "id": "3a9155c2",
   "metadata": {},
   "source": [
    "Evidemment, la manière dont nous avons préparé le dataset est très simpliste. Si nous étions intéressé à construire un modèle performant, il aurait pu être pertinent d'approfondir cette étape (détection de potentiel valeurs aberrantes, gestion de ces derniers, feature sélecion, ...)."
   ]
  },
  {
   "cell_type": "markdown",
   "id": "27d2cf6a",
   "metadata": {},
   "source": [
    "### 1.4 Data splitting"
   ]
  },
  {
   "cell_type": "markdown",
   "id": "7e02687d",
   "metadata": {},
   "source": [
    "Maintenant que notre dataset est prêt, nous pouvons construire notre training et test dataset."
   ]
  },
  {
   "cell_type": "code",
   "execution_count": 54,
   "id": "283a1eb3",
   "metadata": {},
   "outputs": [],
   "source": [
    "X = df.drop(\"SalePrice\", axis=1)\n",
    "Y = df[\"SalePrice\"]\n",
    "\n",
    "X_train, X_valtest, Y_train, Y_valtest = train_test_split(X, Y, test_size=0.3)\n",
    "X_val, X_test, Y_val, Y_test = train_test_split(X_valtest, Y_valtest, test_size=0.5)"
   ]
  },
  {
   "cell_type": "markdown",
   "id": "e27d8628",
   "metadata": {},
   "source": [
    "## 2. Random Forest"
   ]
  },
  {
   "cell_type": "markdown",
   "id": "96a7474e",
   "metadata": {},
   "source": [
    "Pour continuer, nous pouvons travailler sur l'implémentation de l'algorithme de Random Forest. L'idée de cet algorihme est très simple : construire un ensemble d'arbre de décision où chaque arbre sera entraînés sur dataset différents. Pour créer ces différents datasets, l'approche classique consiste à faire du bootstraping. \n",
    "\n",
    "De plus, la manière de construire ces arbres est un peu spécifique. En effet lors de la construction, pour choisir le prochain noeud, on va considérer le meilleur feature parmi un certain sous-ensemble aléatoirement choisi de features. Plus précisément s'il y a $n$ features possible, il est courant de choisir aléatoirerement $\\sqrt n$ features et de choisir le meilleur parmi ces $\\sqrt n$ features.\n",
    "\n",
    "Finalement, une fois que notre Random Forest a été construit et que nous souhaitons faire une régression, il suffit de considérer la moyenne des différentes prédictions. Dans le cas d'une classification, il suffit de choisir la classe avec le plus de votes."
   ]
  },
  {
   "cell_type": "code",
   "execution_count": 90,
   "id": "7346f629",
   "metadata": {},
   "outputs": [],
   "source": [
    "class RandomForest:\n",
    "    \"\"\"\n",
    "    An implementation of Random Forest algorithm\n",
    "    \"\"\"\n",
    "\n",
    "    def _boostrap_idx(self, n, size):\n",
    "        return np.random.choice(np.arange(n), size) \n",
    "    \n",
    "    def _grow_trees(self, X, Y, forest_size, bootstrap_factor):\n",
    "        max_features = np.int64(np.round(np.sqrt(forest_size)))\n",
    "        trees = list()\n",
    "\n",
    "        for _ in range(forest_size):\n",
    "            idx = self._boostrap_idx(len(X), round(len(X) * bootstrap_factor))\n",
    "            x = X.iloc[idx]\n",
    "            y = Y.iloc[idx]\n",
    "\n",
    "            tree = DecisionTreeRegressor(max_features=max_features)\n",
    "            tree.fit(x, y)\n",
    "            trees.append(tree)\n",
    "\n",
    "        return trees\n",
    "\n",
    "    def fit(self, X, Y):\n",
    "        self.trees = self._grow_trees(X, Y, self.forest_size, self.bootstrap_factor)\n",
    "        return self\n",
    "\n",
    "    def predict(self, X):\n",
    "        if self.trees == None:\n",
    "            print(\"The regressor is not fitted\")\n",
    "            return\n",
    "        \n",
    "        results = np.zeros(shape=(self.forest_size, len(X)))\n",
    "        for i in range(self.forest_size):\n",
    "            tree = self.trees[i]\n",
    "            results[i] = tree.predict(X)\n",
    "        \n",
    "        return np.mean(results, axis=0)\n",
    "    \n",
    "    def __init__(self, forest_size=10, bootstrap_factor=1):\n",
    "        self.forest_size = forest_size\n",
    "        self.bootstrap_factor = bootstrap_factor\n",
    "        self.trees = None"
   ]
  },
  {
   "cell_type": "markdown",
   "id": "a2c1c9a8",
   "metadata": {},
   "source": [
    "## 3. Test"
   ]
  },
  {
   "cell_type": "markdown",
   "id": "fda837e0",
   "metadata": {},
   "source": [
    "Pour finir, nous allons construire et tester notre algorithme."
   ]
  },
  {
   "cell_type": "markdown",
   "id": "54a3abf8",
   "metadata": {},
   "source": [
    "### 3.1 Hyperparameters tuning"
   ]
  },
  {
   "cell_type": "markdown",
   "id": "b8e3b415",
   "metadata": {},
   "source": [
    "En utilisant le training et le validation dataset précédemment, faites un peu d'hypermeter tuning. En particulier, tester quelques valeurs différentes pour le nombre d'arbre présents. Evaluer la performance de votre modèle en utilisant l'erreur absolue moyenne."
   ]
  },
  {
   "cell_type": "code",
   "execution_count": 116,
   "id": "de9d47ca",
   "metadata": {},
   "outputs": [],
   "source": [
    "def plot_heatmap(x, y, z, xlab=\"\", ylab=\"\", title=\"\", reversed=False, size=(13, 12)):\n",
    "    fig = plt.figure(figsize=size)\n",
    "    ax = fig.add_subplot()\n",
    "\n",
    "    ax.set_xticks(np.arange(len(y)), labels=y)\n",
    "    ax.set_yticks(np.arange(len(x)), labels=x)\n",
    "\n",
    "    ax.set_xlabel(xlab)\n",
    "    ax.set_ylabel(ylab)\n",
    "    ax.set_title(title)\n",
    "\n",
    "    im = ax.imshow(z, origin=\"lower\", cmap=\"cividis\" if not reversed else \"cividis_r\")\n",
    "    for i in np.arange(len(x)):\n",
    "        for j in np.arange(len(y)):\n",
    "            text = ax.text(j, i, \"%.1f\" % z[i, j], ha=\"center\", va=\"center\", color=\"w\")"
   ]
  },
  {
   "cell_type": "code",
   "execution_count": 123,
   "id": "42fd3a6a",
   "metadata": {},
   "outputs": [
    {
     "name": "stdout",
     "output_type": "stream",
     "text": [
      "Error(5, 1)= 48.55223880597015\n",
      "Error(6, 1)= 47.51658374792702\n",
      "Error(7, 1)= 43.025586353944554\n",
      "Error(8, 1)= 47.0136815920398\n",
      "Error(9, 1)= 43.333333333333336\n",
      "Error(10, 1)= 45.84477611940298\n",
      "Error(11, 1)= 40.819990954319316\n",
      "Error(12, 1)= 40.563847429519065\n",
      "Error(13, 1)= 42.09337925755836\n",
      "Error(14, 1)= 41.47121535181237\n",
      "Error(15, 1)= 40.38474295190713\n",
      "Error(16, 1)= 41.096703980099505\n",
      "Error(17, 1)= 38.85133157740708\n",
      "Error(18, 1)= 41.777224986180215\n",
      "Error(19, 1)= 41.03796805446452\n",
      "Error(20, 1)= 38.05124378109453\n",
      "Error(21, 1)= 40.59132906894101\n",
      "Error(22, 1)= 39.1831750339213\n",
      "Error(23, 1)= 41.0209820462903\n",
      "Error(24, 1)= 38.60530679933665\n",
      "Error(25, 1)= 38.82228855721393\n",
      "Error(26, 1)= 41.442594718714126\n",
      "Error(27, 1)= 38.59941035562926\n",
      "Error(28, 1)= 38.69776119402985\n",
      "Error(29, 1)= 39.0349974266598\n",
      "Error(30, 1)= 39.97296849087894\n",
      "Error(5, 2)= 48.242786069651736\n",
      "Error(6, 2)= 42.56799336650083\n",
      "Error(7, 2)= 47.169154228855724\n",
      "Error(8, 2)= 45.67786069651741\n",
      "Error(9, 2)= 41.783858485351026\n",
      "Error(10, 2)= 40.86865671641791\n",
      "Error(11, 2)= 43.80099502487562\n",
      "Error(12, 2)= 42.089966832504146\n",
      "Error(13, 2)= 38.859548411787216\n",
      "Error(14, 2)= 39.95273631840796\n",
      "Error(15, 2)= 39.39966832504145\n",
      "Error(16, 2)= 42.29695273631841\n",
      "Error(17, 2)= 40.263388937664615\n",
      "Error(18, 2)= 41.58651188501935\n",
      "Error(19, 2)= 40.94632102644671\n",
      "Error(20, 2)= 42.83009950248756\n",
      "Error(21, 2)= 39.266524520255864\n",
      "Error(22, 2)= 37.85526910900046\n",
      "Error(23, 2)= 39.07678996322734\n",
      "Error(24, 2)= 40.46268656716418\n",
      "Error(25, 2)= 37.839203980099505\n",
      "Error(26, 2)= 37.312571756601606\n",
      "Error(27, 2)= 39.325778514833246\n",
      "Error(28, 2)= 36.347192608386635\n",
      "Error(29, 2)= 38.11545719677474\n",
      "Error(30, 2)= 39.750912106135985\n",
      "Error(5, 3)= 57.833830845771146\n",
      "Error(6, 3)= 47.403814262023225\n",
      "Error(7, 3)= 43.50319829424307\n",
      "Error(8, 3)= 47.999378109452735\n",
      "Error(9, 3)= 47.16528468767275\n",
      "Error(10, 3)= 41.53880597014925\n",
      "Error(11, 3)= 41.654454997738576\n",
      "Error(12, 3)= 42.884328358208954\n",
      "Error(13, 3)= 40.71106008419441\n",
      "Error(14, 3)= 43.03020611229566\n",
      "Error(15, 3)= 40.85339966832504\n",
      "Error(16, 3)= 40.843283582089555\n",
      "Error(17, 3)= 40.3579163008487\n",
      "Error(18, 3)= 41.375621890547265\n",
      "Error(19, 3)= 42.02094789211836\n",
      "Error(20, 3)= 40.84278606965174\n",
      "Error(21, 3)= 40.021795782989805\n",
      "Error(22, 3)= 40.57960199004975\n",
      "Error(23, 3)= 39.01535799264547\n",
      "Error(24, 3)= 41.565298507462686\n",
      "Error(25, 3)= 38.21970149253731\n",
      "Error(26, 3)= 39.52468427095293\n",
      "Error(27, 3)= 39.71125852220379\n",
      "Error(28, 3)= 40.300461975835105\n",
      "Error(29, 3)= 38.66031909418425\n",
      "Error(30, 3)= 40.93814262023217\n",
      "Error(5, 4)= 45.00796019900497\n",
      "Error(6, 4)= 51.25870646766169\n",
      "Error(7, 4)= 45.614072494669514\n",
      "Error(8, 4)= 44.55037313432836\n",
      "Error(9, 4)= 43.17689331122167\n",
      "Error(10, 4)= 44.809452736318406\n",
      "Error(11, 4)= 44.90366350067843\n",
      "Error(12, 4)= 42.210613598673305\n",
      "Error(13, 4)= 42.28587830080367\n",
      "Error(14, 4)= 42.29744136460554\n",
      "Error(15, 4)= 41.12669983416252\n",
      "Error(16, 4)= 42.72885572139303\n",
      "Error(17, 4)= 38.52385133157741\n",
      "Error(18, 4)= 40.21890547263681\n",
      "Error(19, 4)= 39.44069128043991\n",
      "Error(20, 4)= 40.36567164179105\n",
      "Error(21, 4)= 38.45131485429993\n",
      "Error(22, 4)= 38.60289461782\n",
      "Error(23, 4)= 40.53277092796885\n",
      "Error(24, 4)= 40.12043946932007\n",
      "Error(25, 4)= 39.507860696517405\n",
      "Error(26, 4)= 38.92862610026789\n",
      "Error(27, 4)= 39.66298138934955\n",
      "Error(28, 4)= 38.37988628287136\n",
      "Error(29, 4)= 39.12094698919198\n",
      "Error(30, 4)= 39.86301824212272\n",
      "Error(5, 5)= 51.490547263681584\n",
      "Error(6, 5)= 45.98092868988391\n",
      "Error(7, 5)= 48.99360341151386\n",
      "Error(8, 5)= 45.38308457711443\n",
      "Error(9, 5)= 48.41956882255389\n",
      "Error(10, 5)= 42.718407960199\n",
      "Error(11, 5)= 44.975124378109456\n",
      "Error(12, 5)= 43.35655058043118\n",
      "Error(13, 5)= 42.06314580941447\n",
      "Error(14, 5)= 42.54406538734897\n",
      "Error(15, 5)= 45.10657822001105\n",
      "Error(16, 5)= 42.120024875621894\n",
      "Error(17, 5)= 43.030143400643844\n",
      "Error(18, 5)= 39.06053067993366\n",
      "Error(19, 5)= 37.177533385703065\n",
      "Error(20, 5)= 40.277611940298506\n",
      "Error(21, 5)= 37.04193319118693\n",
      "Error(22, 5)= 40.514699231117135\n",
      "Error(23, 5)= 38.842093878433914\n",
      "Error(24, 5)= 39.59597844112769\n",
      "Error(25, 5)= 40.793034825870656\n",
      "Error(26, 5)= 39.007845388442405\n",
      "Error(27, 5)= 39.62170628339783\n",
      "Error(28, 5)= 37.472992181947404\n",
      "Error(29, 5)= 37.30159547092126\n",
      "Error(30, 5)= 39.03316749585406\n"
     ]
    }
   ],
   "source": [
    "factors = np.arange(1, 5 + 1, 1)\n",
    "sizes = np.arange(5, 30 + 1, 1)\n",
    "\n",
    "n_factors = len(factors)\n",
    "n_sizes = len(sizes)\n",
    "\n",
    "errors = np.zeros(shape=(n_factors, n_sizes))\n",
    "\n",
    "for (factors_idx, sizes_idx) in itertools.product(range(n_factors), range(n_sizes)):\n",
    "    size = sizes[sizes_idx]\n",
    "    bootstrap_factor = factors[factors_idx]\n",
    "\n",
    "    pred = RandomForest(forest_size=size, bootstrap_factor=3).fit(X_train, Y_train).predict(X_val)\n",
    "    errors[factors_idx, sizes_idx] = mean_absolute_error(Y_val, pred)\n",
    "\n",
    "    print(f\"Error({size}, {bootstrap_factor})= {errors[factors_idx, sizes_idx]}\")"
   ]
  },
  {
   "cell_type": "code",
   "execution_count": 127,
   "id": "fae408d4",
   "metadata": {},
   "outputs": [
    {
     "data": {
      "image/png": "[encoded data removed]",
      "text/plain": [
       "<Figure size 640x480 with 1 Axes>"
      ]
     },
     "metadata": {},
     "output_type": "display_data"
    }
   ],
   "source": [
    "plt.plot(sizes, errors[0,:])\n",
    "\n",
    "plt.show()"
   ]
  },
  {
   "cell_type": "code",
   "execution_count": 124,
   "id": "2ac5c685",
   "metadata": {},
   "outputs": [
    {
     "data": {
      "image/png": "[encoded data removed]",
      "text/plain": [
       "<Figure size 1300x1200 with 1 Axes>"
      ]
     },
     "metadata": {},
     "output_type": "display_data"
    }
   ],
   "source": [
    "plot_heatmap(factors, sizes, errors, xlab=\"Forest size\", ylab=\"Bootsrap factor\", reversed=True)"
   ]
  },
  {
   "cell_type": "code",
   "execution_count": 93,
   "id": "197f3882",
   "metadata": {},
   "outputs": [
    {
     "data": {
      "image/png": "[encoded data removed]",
      "text/plain": [
       "<Figure size 640x480 with 1 Axes>"
      ]
     },
     "metadata": {},
     "output_type": "display_data"
    }
   ],
   "source": [
    "plt.plot(sizes, errors)\n",
    "\n",
    "plt.xlabel(\"Forest size\")\n",
    "plt.ylabel(\"MAE\")\n",
    "plt.title(\"MAE Errors\")\n",
    "plt.show()"
   ]
  },
  {
   "cell_type": "markdown",
   "id": "1be32a26",
   "metadata": {},
   "source": [
    "Une taille de forêt valant autour de 25~30 semble produire une erreur minimale"
   ]
  },
  {
   "cell_type": "markdown",
   "id": "da90c2d9",
   "metadata": {},
   "source": [
    "### 3.2 Evaluation du modèle et comparaisons"
   ]
  },
  {
   "cell_type": "markdown",
   "id": "c0fd8517",
   "metadata": {},
   "source": [
    "En utilisant les meilleurs paramètres trouvé au point précédent, construiser un modèle et évaluer son erreur absolue moyenne sur le test dataset."
   ]
  },
  {
   "cell_type": "code",
   "execution_count": 59,
   "id": "ad578c63",
   "metadata": {},
   "outputs": [],
   "source": [
    "# TODO : build and test the best model using parameters found above on the test dataset."
   ]
  },
  {
   "cell_type": "markdown",
   "id": "7ef8b294",
   "metadata": {},
   "source": [
    "Ensuite, comparer votre modèle avec un arbre de décision."
   ]
  },
  {
   "cell_type": "code",
   "execution_count": 60,
   "id": "f2995e7e",
   "metadata": {},
   "outputs": [],
   "source": [
    "# TODO : build and test a simple decision tree."
   ]
  },
  {
   "cell_type": "markdown",
   "id": "cf373618",
   "metadata": {},
   "source": [
    "Pour finir, comparer la performance de votre modèle avec un RandomForestRegressor fourni par sklearn. Comme des processus aléatoires sont utilisés pour construire ces modèles, il est normal d'obtenir des résultats qui diffèrent un peu."
   ]
  },
  {
   "cell_type": "code",
   "execution_count": 61,
   "id": "72b462d0",
   "metadata": {},
   "outputs": [],
   "source": [
    "# Build and test a RandomForestRegressor model provided by sklearn"
   ]
  }
 ],
 "metadata": {
  "kernelspec": {
   "display_name": "Python 3 (ipykernel)",
   "language": "python",
   "name": "python3"
  },
  "language_info": {
   "codemirror_mode": {
    "name": "ipython",
    "version": 3
   },
   "file_extension": ".py",
   "mimetype": "text/x-python",
   "name": "python",
   "nbconvert_exporter": "python",
   "pygments_lexer": "ipython3",
   "version": "3.11.6"
  }
 },
 "nbformat": 4,
 "nbformat_minor": 5
}
