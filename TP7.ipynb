{
 "cells": [
  {
   "cell_type": "markdown",
   "id": "81690622",
   "metadata": {},
   "source": [
    "# TP 7 : Random Forest"
   ]
  },
  {
   "cell_type": "markdown",
   "id": "fedeefca",
   "metadata": {},
   "source": [
    "# <div class=\"alert alert-block alert-success\">\n",
    "<b>Informations générales </b>\n",
    "</div>\n",
    "\n",
    "**Professeur**: Stephan Robert\n",
    "\n",
    "**Assistant(s)**: Félicien Hêche\n",
    "\n",
    "**Contact**: stephan.o.robert@gmail.com, felicien.heche@gmail.com ou via Teams\n",
    "\n",
    "**Rendu**:\n",
    "\n",
    "- Date: 9 Janvier 2024\n",
    "- Modalité: Travail individuel. Une fois complétées, copiez les réponses dans le ficher \"**TP7_APV_S1-2023_Nom_Prenom.*****\" (*** = ce que vous voulez qui soit lisible pour nous: .pdf, .html, ...) en remplaçant Nom et Prenom par les votres puis uploader votre fichier sur Cyberlearn.\n",
    "- Note: Ce TP est noté sur 6, pour un poids de x%\n",
    "\n",
    "**Étudiant**:\n",
    "\n",
    "- Prénom Nom\n",
    "\n",
    "<div class=\"alert alert-block alert-success\">\n",
    "\n",
    "<b>But du TP </b>\n",
    "</div>\n",
    "\n",
    "Le but de ce travail pratique est d'implémenter un algorithme appelé Random Forest! Dans ce travail pratique, nous allons travailler avec un dataset trouvé sur kaggle. Ce dataset est assez brute et par conséquent, il faudra faire un peu de préprocessing avant de pouvoir l'utiliser.\n",
    "\n",
    "\n",
    "<!---\n",
    "<div class=\"alert alert-block alert-info\">\n",
    "<b>Rappel </b>\n",
    "</div>\n",
    "-->\n",
    "\n",
    "<div class=\"alert alert-block alert-success\">\n",
    "<b>Table des matières </b>\n",
    "</div>\n",
    "\n",
    "1. Data préparation\n",
    "2. Random Forest\n",
    "3. Test"
   ]
  },
  {
   "cell_type": "markdown",
   "id": "f1f4dde1",
   "metadata": {},
   "source": [
    "Commencons par importer quelques packages."
   ]
  },
  {
   "cell_type": "code",
   "execution_count": 1,
   "id": "90d35bb1",
   "metadata": {},
   "outputs": [],
   "source": [
    "import sklearn\n",
    "import numpy as np\n",
    "from tqdm import tqdm\n",
    "from statistics import mode\n",
    "from sklearn.tree import DecisionTreeRegressor\n",
    "from sklearn import datasets\n",
    "from sklearn.model_selection import train_test_split\n",
    "from sklearn.ensemble import RandomForestRegressor\n",
    "from scipy import stats\n",
    "import pandas as pd\n",
    "import re "
   ]
  },
  {
   "cell_type": "markdown",
   "id": "0b44720c",
   "metadata": {},
   "source": [
    "## 1. Data préparation"
   ]
  },
  {
   "cell_type": "markdown",
   "id": "6de428b0",
   "metadata": {},
   "source": [
    "Pour ce TP, nous allons travailler avec un dataset qui se nomme 'Australian Housing Prices'. Ce dataset vient de kaggle (plus d'information [ici](https://www.kaggle.com/datasets/thedevastator/australian-housing-data-1000-properties-sampled)). Ce fichier contient 27 features concernant $1000$ maisons/appartements australiens ainsi que le prix de vente de la maison/appartement en question. Dans ce travail pratique, nous allons utiliser l'algorithme de random forest afin d'estimer le prix d'une maison/appartement."
   ]
  },
  {
   "cell_type": "markdown",
   "id": "96a94432",
   "metadata": {},
   "source": [
    "Commençons par essayer de comprendre un peu mieux le dataset."
   ]
  },
  {
   "cell_type": "code",
   "execution_count": 2,
   "id": "e83395af",
   "metadata": {},
   "outputs": [
    {
     "data": {
      "text/html": [
       "<div>\n",
       "<style scoped>\n",
       "    .dataframe tbody tr th:only-of-type {\n",
       "        vertical-align: middle;\n",
       "    }\n",
       "\n",
       "    .dataframe tbody tr th {\n",
       "        vertical-align: top;\n",
       "    }\n",
       "\n",
       "    .dataframe thead th {\n",
       "        text-align: right;\n",
       "    }\n",
       "</style>\n",
       "<table border=\"1\" class=\"dataframe\">\n",
       "  <thead>\n",
       "    <tr style=\"text-align: right;\">\n",
       "      <th></th>\n",
       "      <th>Id</th>\n",
       "      <th>MSSubClass</th>\n",
       "      <th>MSZoning</th>\n",
       "      <th>LotFrontage</th>\n",
       "      <th>LotArea</th>\n",
       "      <th>Street</th>\n",
       "      <th>Alley</th>\n",
       "      <th>LotShape</th>\n",
       "      <th>LandContour</th>\n",
       "      <th>Utilities</th>\n",
       "      <th>...</th>\n",
       "      <th>PoolArea</th>\n",
       "      <th>PoolQC</th>\n",
       "      <th>Fence</th>\n",
       "      <th>MiscFeature</th>\n",
       "      <th>MiscVal</th>\n",
       "      <th>MoSold</th>\n",
       "      <th>YrSold</th>\n",
       "      <th>SaleType</th>\n",
       "      <th>SaleCondition</th>\n",
       "      <th>SalePrice</th>\n",
       "    </tr>\n",
       "  </thead>\n",
       "  <tbody>\n",
       "    <tr>\n",
       "      <th>0</th>\n",
       "      <td>1</td>\n",
       "      <td>60</td>\n",
       "      <td>RL</td>\n",
       "      <td>65.0</td>\n",
       "      <td>8450</td>\n",
       "      <td>Pave</td>\n",
       "      <td>NaN</td>\n",
       "      <td>Reg</td>\n",
       "      <td>Lvl</td>\n",
       "      <td>AllPub</td>\n",
       "      <td>...</td>\n",
       "      <td>0</td>\n",
       "      <td>NaN</td>\n",
       "      <td>NaN</td>\n",
       "      <td>NaN</td>\n",
       "      <td>0</td>\n",
       "      <td>2</td>\n",
       "      <td>2008</td>\n",
       "      <td>WD</td>\n",
       "      <td>Normal</td>\n",
       "      <td>208500</td>\n",
       "    </tr>\n",
       "    <tr>\n",
       "      <th>1</th>\n",
       "      <td>2</td>\n",
       "      <td>20</td>\n",
       "      <td>RL</td>\n",
       "      <td>80.0</td>\n",
       "      <td>9600</td>\n",
       "      <td>Pave</td>\n",
       "      <td>NaN</td>\n",
       "      <td>Reg</td>\n",
       "      <td>Lvl</td>\n",
       "      <td>AllPub</td>\n",
       "      <td>...</td>\n",
       "      <td>0</td>\n",
       "      <td>NaN</td>\n",
       "      <td>NaN</td>\n",
       "      <td>NaN</td>\n",
       "      <td>0</td>\n",
       "      <td>5</td>\n",
       "      <td>2007</td>\n",
       "      <td>WD</td>\n",
       "      <td>Normal</td>\n",
       "      <td>181500</td>\n",
       "    </tr>\n",
       "    <tr>\n",
       "      <th>2</th>\n",
       "      <td>3</td>\n",
       "      <td>60</td>\n",
       "      <td>RL</td>\n",
       "      <td>68.0</td>\n",
       "      <td>11250</td>\n",
       "      <td>Pave</td>\n",
       "      <td>NaN</td>\n",
       "      <td>IR1</td>\n",
       "      <td>Lvl</td>\n",
       "      <td>AllPub</td>\n",
       "      <td>...</td>\n",
       "      <td>0</td>\n",
       "      <td>NaN</td>\n",
       "      <td>NaN</td>\n",
       "      <td>NaN</td>\n",
       "      <td>0</td>\n",
       "      <td>9</td>\n",
       "      <td>2008</td>\n",
       "      <td>WD</td>\n",
       "      <td>Normal</td>\n",
       "      <td>223500</td>\n",
       "    </tr>\n",
       "    <tr>\n",
       "      <th>3</th>\n",
       "      <td>4</td>\n",
       "      <td>70</td>\n",
       "      <td>RL</td>\n",
       "      <td>60.0</td>\n",
       "      <td>9550</td>\n",
       "      <td>Pave</td>\n",
       "      <td>NaN</td>\n",
       "      <td>IR1</td>\n",
       "      <td>Lvl</td>\n",
       "      <td>AllPub</td>\n",
       "      <td>...</td>\n",
       "      <td>0</td>\n",
       "      <td>NaN</td>\n",
       "      <td>NaN</td>\n",
       "      <td>NaN</td>\n",
       "      <td>0</td>\n",
       "      <td>2</td>\n",
       "      <td>2006</td>\n",
       "      <td>WD</td>\n",
       "      <td>Abnorml</td>\n",
       "      <td>140000</td>\n",
       "    </tr>\n",
       "    <tr>\n",
       "      <th>4</th>\n",
       "      <td>5</td>\n",
       "      <td>60</td>\n",
       "      <td>RL</td>\n",
       "      <td>84.0</td>\n",
       "      <td>14260</td>\n",
       "      <td>Pave</td>\n",
       "      <td>NaN</td>\n",
       "      <td>IR1</td>\n",
       "      <td>Lvl</td>\n",
       "      <td>AllPub</td>\n",
       "      <td>...</td>\n",
       "      <td>0</td>\n",
       "      <td>NaN</td>\n",
       "      <td>NaN</td>\n",
       "      <td>NaN</td>\n",
       "      <td>0</td>\n",
       "      <td>12</td>\n",
       "      <td>2008</td>\n",
       "      <td>WD</td>\n",
       "      <td>Normal</td>\n",
       "      <td>250000</td>\n",
       "    </tr>\n",
       "  </tbody>\n",
       "</table>\n",
       "<p>5 rows × 81 columns</p>\n",
       "</div>"
      ],
      "text/plain": [
       "   Id  MSSubClass MSZoning  LotFrontage  LotArea Street Alley LotShape  \\\n",
       "0   1          60       RL         65.0     8450   Pave   NaN      Reg   \n",
       "1   2          20       RL         80.0     9600   Pave   NaN      Reg   \n",
       "2   3          60       RL         68.0    11250   Pave   NaN      IR1   \n",
       "3   4          70       RL         60.0     9550   Pave   NaN      IR1   \n",
       "4   5          60       RL         84.0    14260   Pave   NaN      IR1   \n",
       "\n",
       "  LandContour Utilities  ... PoolArea PoolQC Fence MiscFeature MiscVal MoSold  \\\n",
       "0         Lvl    AllPub  ...        0    NaN   NaN         NaN       0      2   \n",
       "1         Lvl    AllPub  ...        0    NaN   NaN         NaN       0      5   \n",
       "2         Lvl    AllPub  ...        0    NaN   NaN         NaN       0      9   \n",
       "3         Lvl    AllPub  ...        0    NaN   NaN         NaN       0      2   \n",
       "4         Lvl    AllPub  ...        0    NaN   NaN         NaN       0     12   \n",
       "\n",
       "  YrSold  SaleType  SaleCondition  SalePrice  \n",
       "0   2008        WD         Normal     208500  \n",
       "1   2007        WD         Normal     181500  \n",
       "2   2008        WD         Normal     223500  \n",
       "3   2006        WD        Abnorml     140000  \n",
       "4   2008        WD         Normal     250000  \n",
       "\n",
       "[5 rows x 81 columns]"
      ]
     },
     "execution_count": 2,
     "metadata": {},
     "output_type": "execute_result"
    }
   ],
   "source": [
    "df = pd.read_csv('train.csv')\n",
    "df.head()"
   ]
  },
  {
   "cell_type": "markdown",
   "id": "beeb8964",
   "metadata": {},
   "source": [
    "Comme vous pouvez le voir, notre dataset n'est pas utilisable comme tel, car il a des données manquantes et des features de type string. Nous allons donc commencer par préparer notre dataset."
   ]
  },
  {
   "cell_type": "markdown",
   "id": "c5dc48d3",
   "metadata": {},
   "source": [
    "### 1.1 Gestion des données manquantes"
   ]
  },
  {
   "cell_type": "markdown",
   "id": "27650644",
   "metadata": {},
   "source": [
    "Pour commencer nous allons gérer nos données manquantes. En effet, comme nous pouvons le constater, il y a actuellememt un grand nombre de données manquantes dans notre jeux de données.\n"
   ]
  },
  {
   "cell_type": "code",
   "execution_count": 3,
   "id": "75480995",
   "metadata": {},
   "outputs": [
    {
     "name": "stdout",
     "output_type": "stream",
     "text": [
      "Acutally, the are 1460 missing data.\n"
     ]
    }
   ],
   "source": [
    "# TODO : count the number of houses with missing feature."
   ]
  },
  {
   "cell_type": "markdown",
   "id": "07384168",
   "metadata": {},
   "source": [
    "En première approche, nous allons donc déterminer et supprimer les features de notre dataset qui ont un nombre de valeurs manquantes trop élevées."
   ]
  },
  {
   "cell_type": "code",
   "execution_count": null,
   "id": "32a5b57e",
   "metadata": {},
   "outputs": [],
   "source": [
    "# TODO : find the feature with more than 200 missing values and delete them from the dataset."
   ]
  },
  {
   "cell_type": "markdown",
   "id": "f82f283b",
   "metadata": {},
   "source": [
    "Ensuite, il est également, préférable de supprimer la colonne 'Id'."
   ]
  },
  {
   "cell_type": "code",
   "execution_count": 6,
   "id": "67e0e88a",
   "metadata": {},
   "outputs": [],
   "source": [
    "# TODO delete the row 'Id'"
   ]
  },
  {
   "cell_type": "code",
   "execution_count": 7,
   "id": "364d9d1e",
   "metadata": {},
   "outputs": [
    {
     "name": "stdout",
     "output_type": "stream",
     "text": [
      "Acutally, there are 122 missing data.\n"
     ]
    }
   ],
   "source": [
    "# TODO : count the number houses with missing information in our dataset.   "
   ]
  },
  {
   "cell_type": "markdown",
   "id": "45175220",
   "metadata": {},
   "source": [
    "Bien que le nombre de données manquantes ait significativement diminué, il reste encore quelques données manquantes. Pour finir, nous allons donc supprimer les lignes dans lesquelles il y a encore des données manquantes."
   ]
  },
  {
   "cell_type": "code",
   "execution_count": 8,
   "id": "8d668bc5",
   "metadata": {},
   "outputs": [],
   "source": [
    "# TODO : delete houses sample which still contains missing data"
   ]
  },
  {
   "cell_type": "code",
   "execution_count": 9,
   "id": "a68df44e",
   "metadata": {},
   "outputs": [
    {
     "name": "stdout",
     "output_type": "stream",
     "text": [
      "Acutally, the are 0 missing data.\n"
     ]
    }
   ],
   "source": [
    "# # TODO : check there is no missing data anymore.  "
   ]
  },
  {
   "cell_type": "markdown",
   "id": "8deb4e0e",
   "metadata": {},
   "source": [
    "## 1.3 Numérisation"
   ]
  },
  {
   "cell_type": "markdown",
   "id": "38b8ed1c",
   "metadata": {},
   "source": [
    "Maintenant que nous avons géré le problème des données manquantes, passons au problème suivant. Comme vous avez pu le constater toutes les valeurs présentes dans notre dataset ne sont pas de type numérique. Cela est évidemment problématique, car nous devons nourrir notre modèle avec des données de ce type."
   ]
  },
  {
   "cell_type": "markdown",
   "id": "bc64512a",
   "metadata": {},
   "source": [
    "Nous allons donc gérer ce problème ici."
   ]
  },
  {
   "cell_type": "code",
   "execution_count": 10,
   "id": "04a334d8",
   "metadata": {},
   "outputs": [],
   "source": [
    "# TODO : transform string feature into numeric value"
   ]
  },
  {
   "cell_type": "markdown",
   "id": "bb2787e2",
   "metadata": {},
   "source": [
    "Maintenant, nous pouvons convertir nos données string en données numéric."
   ]
  },
  {
   "cell_type": "code",
   "execution_count": 11,
   "id": "b8742cac",
   "metadata": {},
   "outputs": [],
   "source": [
    "df = numerise_data(df)"
   ]
  },
  {
   "cell_type": "markdown",
   "id": "96db7ac5",
   "metadata": {},
   "source": [
    "Evidemment, nous pouvons vérifier que tout a bien fonctionné."
   ]
  },
  {
   "cell_type": "code",
   "execution_count": 12,
   "id": "18b0f61c",
   "metadata": {
    "scrolled": true
   },
   "outputs": [
    {
     "data": {
      "text/html": [
       "<div>\n",
       "<style scoped>\n",
       "    .dataframe tbody tr th:only-of-type {\n",
       "        vertical-align: middle;\n",
       "    }\n",
       "\n",
       "    .dataframe tbody tr th {\n",
       "        vertical-align: top;\n",
       "    }\n",
       "\n",
       "    .dataframe thead th {\n",
       "        text-align: right;\n",
       "    }\n",
       "</style>\n",
       "<table border=\"1\" class=\"dataframe\">\n",
       "  <thead>\n",
       "    <tr style=\"text-align: right;\">\n",
       "      <th></th>\n",
       "      <th>MSSubClass</th>\n",
       "      <th>MSZoning</th>\n",
       "      <th>LotArea</th>\n",
       "      <th>Street</th>\n",
       "      <th>LotShape</th>\n",
       "      <th>LandContour</th>\n",
       "      <th>Utilities</th>\n",
       "      <th>LotConfig</th>\n",
       "      <th>LandSlope</th>\n",
       "      <th>Neighborhood</th>\n",
       "      <th>...</th>\n",
       "      <th>EnclosedPorch</th>\n",
       "      <th>3SsnPorch</th>\n",
       "      <th>ScreenPorch</th>\n",
       "      <th>PoolArea</th>\n",
       "      <th>MiscVal</th>\n",
       "      <th>MoSold</th>\n",
       "      <th>YrSold</th>\n",
       "      <th>SaleType</th>\n",
       "      <th>SaleCondition</th>\n",
       "      <th>SalePrice</th>\n",
       "    </tr>\n",
       "  </thead>\n",
       "  <tbody>\n",
       "    <tr>\n",
       "      <th>0</th>\n",
       "      <td>60</td>\n",
       "      <td>0</td>\n",
       "      <td>8450</td>\n",
       "      <td>0</td>\n",
       "      <td>0</td>\n",
       "      <td>0</td>\n",
       "      <td>0</td>\n",
       "      <td>0</td>\n",
       "      <td>0</td>\n",
       "      <td>0</td>\n",
       "      <td>...</td>\n",
       "      <td>0</td>\n",
       "      <td>0</td>\n",
       "      <td>0</td>\n",
       "      <td>0</td>\n",
       "      <td>0</td>\n",
       "      <td>2</td>\n",
       "      <td>2008</td>\n",
       "      <td>0</td>\n",
       "      <td>0</td>\n",
       "      <td>208500</td>\n",
       "    </tr>\n",
       "    <tr>\n",
       "      <th>1</th>\n",
       "      <td>20</td>\n",
       "      <td>0</td>\n",
       "      <td>9600</td>\n",
       "      <td>0</td>\n",
       "      <td>0</td>\n",
       "      <td>0</td>\n",
       "      <td>0</td>\n",
       "      <td>1</td>\n",
       "      <td>0</td>\n",
       "      <td>1</td>\n",
       "      <td>...</td>\n",
       "      <td>0</td>\n",
       "      <td>0</td>\n",
       "      <td>0</td>\n",
       "      <td>0</td>\n",
       "      <td>0</td>\n",
       "      <td>5</td>\n",
       "      <td>2007</td>\n",
       "      <td>0</td>\n",
       "      <td>0</td>\n",
       "      <td>181500</td>\n",
       "    </tr>\n",
       "    <tr>\n",
       "      <th>2</th>\n",
       "      <td>60</td>\n",
       "      <td>0</td>\n",
       "      <td>11250</td>\n",
       "      <td>0</td>\n",
       "      <td>1</td>\n",
       "      <td>0</td>\n",
       "      <td>0</td>\n",
       "      <td>0</td>\n",
       "      <td>0</td>\n",
       "      <td>0</td>\n",
       "      <td>...</td>\n",
       "      <td>0</td>\n",
       "      <td>0</td>\n",
       "      <td>0</td>\n",
       "      <td>0</td>\n",
       "      <td>0</td>\n",
       "      <td>9</td>\n",
       "      <td>2008</td>\n",
       "      <td>0</td>\n",
       "      <td>0</td>\n",
       "      <td>223500</td>\n",
       "    </tr>\n",
       "    <tr>\n",
       "      <th>3</th>\n",
       "      <td>70</td>\n",
       "      <td>0</td>\n",
       "      <td>9550</td>\n",
       "      <td>0</td>\n",
       "      <td>1</td>\n",
       "      <td>0</td>\n",
       "      <td>0</td>\n",
       "      <td>2</td>\n",
       "      <td>0</td>\n",
       "      <td>2</td>\n",
       "      <td>...</td>\n",
       "      <td>272</td>\n",
       "      <td>0</td>\n",
       "      <td>0</td>\n",
       "      <td>0</td>\n",
       "      <td>0</td>\n",
       "      <td>2</td>\n",
       "      <td>2006</td>\n",
       "      <td>0</td>\n",
       "      <td>1</td>\n",
       "      <td>140000</td>\n",
       "    </tr>\n",
       "    <tr>\n",
       "      <th>4</th>\n",
       "      <td>60</td>\n",
       "      <td>0</td>\n",
       "      <td>14260</td>\n",
       "      <td>0</td>\n",
       "      <td>1</td>\n",
       "      <td>0</td>\n",
       "      <td>0</td>\n",
       "      <td>1</td>\n",
       "      <td>0</td>\n",
       "      <td>3</td>\n",
       "      <td>...</td>\n",
       "      <td>0</td>\n",
       "      <td>0</td>\n",
       "      <td>0</td>\n",
       "      <td>0</td>\n",
       "      <td>0</td>\n",
       "      <td>12</td>\n",
       "      <td>2008</td>\n",
       "      <td>0</td>\n",
       "      <td>0</td>\n",
       "      <td>250000</td>\n",
       "    </tr>\n",
       "  </tbody>\n",
       "</table>\n",
       "<p>5 rows × 74 columns</p>\n",
       "</div>"
      ],
      "text/plain": [
       "   MSSubClass  MSZoning  LotArea  Street  LotShape  LandContour  Utilities  \\\n",
       "0          60         0     8450       0         0            0          0   \n",
       "1          20         0     9600       0         0            0          0   \n",
       "2          60         0    11250       0         1            0          0   \n",
       "3          70         0     9550       0         1            0          0   \n",
       "4          60         0    14260       0         1            0          0   \n",
       "\n",
       "   LotConfig  LandSlope  Neighborhood  ...  EnclosedPorch  3SsnPorch  \\\n",
       "0          0          0             0  ...              0          0   \n",
       "1          1          0             1  ...              0          0   \n",
       "2          0          0             0  ...              0          0   \n",
       "3          2          0             2  ...            272          0   \n",
       "4          1          0             3  ...              0          0   \n",
       "\n",
       "   ScreenPorch  PoolArea  MiscVal  MoSold  YrSold  SaleType  SaleCondition  \\\n",
       "0            0         0        0       2    2008         0              0   \n",
       "1            0         0        0       5    2007         0              0   \n",
       "2            0         0        0       9    2008         0              0   \n",
       "3            0         0        0       2    2006         0              1   \n",
       "4            0         0        0      12    2008         0              0   \n",
       "\n",
       "   SalePrice  \n",
       "0     208500  \n",
       "1     181500  \n",
       "2     223500  \n",
       "3     140000  \n",
       "4     250000  \n",
       "\n",
       "[5 rows x 74 columns]"
      ]
     },
     "execution_count": 12,
     "metadata": {},
     "output_type": "execute_result"
    }
   ],
   "source": [
    "df.head()"
   ]
  },
  {
   "cell_type": "markdown",
   "id": "3a9155c2",
   "metadata": {},
   "source": [
    "Evidemment, la manière dont nous avons préparé le dataset est très simpliste. Si nous étions intéressé à construire un modèle performant, il aurait pu être pertinent d'approfondir cette étape (détection de potentiel valeurs aberrantes, gestion de ces derniers, feature sélecion, ...)."
   ]
  },
  {
   "cell_type": "markdown",
   "id": "27d2cf6a",
   "metadata": {},
   "source": [
    "### 1.4 Data splitting"
   ]
  },
  {
   "cell_type": "markdown",
   "id": "7e02687d",
   "metadata": {},
   "source": [
    "Maintenant que notre dataset est prêt, nous pouvons construire notre training et test dataset."
   ]
  },
  {
   "cell_type": "code",
   "execution_count": 13,
   "id": "283a1eb3",
   "metadata": {},
   "outputs": [],
   "source": [
    "# TODO : split the dataset into the training, evaluation and test dataset.\n",
    "# We can use 70% of the data for the training, 15% for the evaluation and 15% for the test.\n"
   ]
  },
  {
   "cell_type": "markdown",
   "id": "e27d8628",
   "metadata": {},
   "source": [
    "## 2. Random Forest"
   ]
  },
  {
   "cell_type": "markdown",
   "id": "96a7474e",
   "metadata": {},
   "source": [
    "Pour continuer, nous pouvons travailler sur l'implémentation de l'algorithme de Random Forest. L'idée de cet algorihme est très simple : construire un ensemble d'arbre de décision où chaque arbre sera entraînés sur dataset différents. Pour créer ces différents datasets, l'approche classique consiste à faire du bootstraping. \n",
    "\n",
    "De plus, la manière de construire ces arbres est un peu spécifique. En effet lors de la construction, pour choisir le prochain noeud, on va considérer le meilleur feature parmi un certain sous-ensemble aléatoirement choisi de features. Plus précisément s'il y a $n$ features possible, il est courant de choisir aléatoirerement $\\sqrt n$ features et de choisir le meilleur parmi ces $\\sqrt n$ features.\n",
    "\n",
    "Finalement, une fois que notre Random Forest a été construit et que nous souhaitons faire une régression, il suffit de considérer la moyenne des différentes prédictions. Dans le cas d'une classification, il suffit de choisir la classe avec le plus de votes."
   ]
  },
  {
   "cell_type": "code",
   "execution_count": 14,
   "id": "7346f629",
   "metadata": {},
   "outputs": [],
   "source": [
    "class RandomForest:\n",
    "    \"\"\"\n",
    "    An implementation of Random Forest algorithm\n",
    "    \"\"\"\n",
    "        \"\"\"\n",
    "    An implementation of Random Forest algorithm\n",
    "    \"\"\"\n",
    "    # TODO : implement this class -> Of course you can use DecisionTreeRegressor provided by sklearn\n",
    "    \n",
    "    "
   ]
  },
  {
   "cell_type": "markdown",
   "id": "a2c1c9a8",
   "metadata": {},
   "source": [
    "## 3. Test"
   ]
  },
  {
   "cell_type": "markdown",
   "id": "fda837e0",
   "metadata": {},
   "source": [
    "Pour finir, nous allons construire et tester notre algorithme."
   ]
  },
  {
   "cell_type": "markdown",
   "id": "54a3abf8",
   "metadata": {},
   "source": [
    "### 3.1 Hyperparameters tuning"
   ]
  },
  {
   "cell_type": "markdown",
   "id": "b8e3b415",
   "metadata": {},
   "source": [
    "En utilisant le training et le validation dataset précédemment, faites un peu d'hypermeter tuning. En particulier, tester quelques valeurs différentes pour le nombre d'arbre présents. Evaluer la performance de votre modèle en utilisant l'erreur absolue moyenne."
   ]
  },
  {
   "cell_type": "code",
   "execution_count": null,
   "id": "42fd3a6a",
   "metadata": {},
   "outputs": [],
   "source": [
    "# TODO : tune some hyperparmeters"
   ]
  },
  {
   "cell_type": "markdown",
   "id": "da90c2d9",
   "metadata": {},
   "source": [
    "### 3.2 Evaluation du modèle et comparaisons"
   ]
  },
  {
   "cell_type": "markdown",
   "id": "c0fd8517",
   "metadata": {},
   "source": [
    "En utilisant les meilleurs paramètres trouvé au point précédent, construiser un modèle et évaluer son erreur absolue moyenne sur le test dataset."
   ]
  },
  {
   "cell_type": "code",
   "execution_count": null,
   "id": "ad578c63",
   "metadata": {},
   "outputs": [],
   "source": [
    "# TODO : build and test the best model using parameters found above on the test dataset."
   ]
  },
  {
   "cell_type": "markdown",
   "id": "7ef8b294",
   "metadata": {},
   "source": [
    "Ensuite, comparer votre modèle avec un arbre de décision."
   ]
  },
  {
   "cell_type": "code",
   "execution_count": null,
   "id": "f2995e7e",
   "metadata": {},
   "outputs": [],
   "source": [
    "# TODO : build and test a simple decision tree."
   ]
  },
  {
   "cell_type": "markdown",
   "id": "cf373618",
   "metadata": {},
   "source": [
    "Pour finir, comparer la performance de votre modèle avec un RandomForestRegressor fourni par sklearn. Comme des processus aléatoires sont utilisés pour construire ces modèles, il est normal d'obtenir des résultats qui diffèrent un peu."
   ]
  },
  {
   "cell_type": "code",
   "execution_count": null,
   "id": "72b462d0",
   "metadata": {},
   "outputs": [],
   "source": [
    "# Build and test a RandomForestRegressor model provided by sklearn"
   ]
  }
 ],
 "metadata": {
  "kernelspec": {
   "display_name": "Python 3 (ipykernel)",
   "language": "python",
   "name": "python3"
  },
  "language_info": {
   "codemirror_mode": {
    "name": "ipython",
    "version": 3
   },
   "file_extension": ".py",
   "mimetype": "text/x-python",
   "name": "python",
   "nbconvert_exporter": "python",
   "pygments_lexer": "ipython3",
   "version": "3.9.12"
  }
 },
 "nbformat": 4,
 "nbformat_minor": 5
}
